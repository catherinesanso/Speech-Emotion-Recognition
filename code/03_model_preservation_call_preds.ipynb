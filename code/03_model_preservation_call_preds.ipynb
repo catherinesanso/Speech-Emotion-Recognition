{
 "cells": [
  {
   "cell_type": "code",
   "execution_count": 1,
   "id": "d0ee4c22-e160-496a-8876-fafca1bc6ae7",
   "metadata": {},
   "outputs": [],
   "source": [
    "import tensorflow as tf\n",
    "from tensorflow.keras.preprocessing import image\n",
    "import numpy as np"
   ]
  },
  {
   "cell_type": "markdown",
   "id": "b98e8b40-c4e0-4ff2-8f65-c5dd3d6b72cd",
   "metadata": {},
   "source": [
    "# Loading the Saved Keras Model"
   ]
  },
  {
   "cell_type": "code",
   "execution_count": 19,
   "id": "cbb01b39-76b1-49f2-b0d8-ecc9f35dd48f",
   "metadata": {},
   "outputs": [],
   "source": [
    "# Load the best model saved by ModelCheckpoint\n",
    "best_vgg16 = tf.keras.models.load_model('best_vgg16.h5')"
   ]
  },
  {
   "cell_type": "markdown",
   "id": "9b8619de-5672-438e-8387-582e168f9cf0",
   "metadata": {},
   "source": [
    "---"
   ]
  },
  {
   "cell_type": "markdown",
   "id": "ec103da7-e025-4699-955e-f0d569e61c0d",
   "metadata": {},
   "source": [
    "# Decoding the Predictions"
   ]
  },
  {
   "cell_type": "code",
   "execution_count": 16,
   "id": "63a17bcc-6fab-4b97-9a18-3f2065202e08",
   "metadata": {},
   "outputs": [],
   "source": [
    "emotion_labels = ['ANG', 'DIS', 'FEA', 'HAP', 'XX', 'SAD']\n",
    "\n",
    "def random_prediction(img_path):\n",
    "    img = image.load_img(img_path, target_size=(128, 128)) \n",
    "    img_array = image.img_to_array(img)\n",
    "    img_array = np.expand_dims(img_array, axis=0) \n",
    "    img_array = tf.keras.applications.vgg16.preprocess_input(img_array)\n",
    "\n",
    "    # Make predictions\n",
    "    predictions = best_vgg16.predict(img_array)  # Produces an array with assigned probabilities for each of the 6 output classifiers\n",
    "\n",
    "    # Find the index of the category with the highest probability\n",
    "    predicted_class_index = np.argmax(predictions[0])\n",
    "    \n",
    "    # Get the corresponding emotion label\n",
    "    predicted_emotion = emotion_labels[predicted_class_index]\n",
    "    \n",
    "    # Get the predicted probability for the chosen class\n",
    "    predicted_probability = predictions[0][predicted_class_index]\n",
    "    \n",
    "    # Format the predicted probability as a percentage with two decimal points\n",
    "    predicted_probability_formatted = f'Predicted Probability: {predicted_probability * 100:.2f}%'\n",
    "\n",
    "    # Print the results\n",
    "    print(f'Predicted Emotion: {predicted_emotion}')\n",
    "    print(predicted_probability_formatted)\n",
    "    if img_path.split('_')[3] == emotion_labels[predicted_class_index]:\n",
    "        print(f'Prediction is correct.')\n",
    "    else:\n",
    "        print(f'Prediction is incorrect.')"
   ]
  },
  {
   "cell_type": "code",
   "execution_count": 17,
   "id": "c3b8ae8e-301c-4d08-88d1-6f7f06b5a733",
   "metadata": {},
   "outputs": [
    {
     "name": "stdout",
     "output_type": "stream",
     "text": [
      "1/1 [==============================] - 0s 54ms/step\n",
      "Predicted Emotion: DIS\n",
      "Predicted Probability: 88.38%\n",
      "Prediction is correct.\n"
     ]
    }
   ],
   "source": [
    "img_path = '../plots/spectograms/DIS/1030_IEO_DIS_HI_spectogram_preemphasis.png'\n",
    "random_prediction(img_path)"
   ]
  },
  {
   "cell_type": "code",
   "execution_count": null,
   "id": "e6c6167e-4c25-492e-9713-23e7b371fbb6",
   "metadata": {},
   "outputs": [],
   "source": []
  }
 ],
 "metadata": {
  "kernelspec": {
   "display_name": "Python 3 (ipykernel)",
   "language": "python",
   "name": "python3"
  },
  "language_info": {
   "codemirror_mode": {
    "name": "ipython",
    "version": 3
   },
   "file_extension": ".py",
   "mimetype": "text/x-python",
   "name": "python",
   "nbconvert_exporter": "python",
   "pygments_lexer": "ipython3",
   "version": "3.9.18"
  }
 },
 "nbformat": 4,
 "nbformat_minor": 5
}
