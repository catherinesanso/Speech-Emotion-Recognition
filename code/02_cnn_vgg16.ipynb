{
 "cells": [
  {
   "cell_type": "code",
   "execution_count": 103,
   "metadata": {
    "colab": {
     "base_uri": "https://localhost:8080/"
    },
    "id": "9GaDhBDayduI",
    "outputId": "59b0a93f-d1dd-4831-8c55-99f548492458"
   },
   "outputs": [],
   "source": [
    "import numpy as np\n",
    "import matplotlib.pyplot as plt\n",
    "import pandas as pd\n",
    "import os\n",
    "\n",
    "# For my first CNN model\n",
    "import tensorflow as tf\n",
    "from tensorflow.keras.utils import image_dataset_from_directory\n",
    "from tensorflow.keras.layers import Conv2D, MaxPooling2D, Flatten, Dense\n",
    "from tensorflow.keras.regularizers import l2\n",
    "from tensorflow.keras.callbacks import EarlyStopping, ModelCheckpoint\n",
    "\n",
    "# For the CNN model using VGG16\n",
    "from tensorflow.keras.applications import VGG16\n",
    "from tensorflow.keras.models import Sequential\n",
    "from keras.models import Model\n",
    "from tensorflow.keras.preprocessing.image import ImageDataGenerator\n",
    "\n",
    "# Performancer Metric Analysis\n",
    "from sklearn.metrics import classification_report"
   ]
  },
  {
   "cell_type": "markdown",
   "metadata": {
    "id": "MpnjJVvYM7fF"
   },
   "source": [
    "# Importing and Loading the Data"
   ]
  },
  {
   "cell_type": "code",
   "execution_count": 3,
   "metadata": {
    "colab": {
     "base_uri": "https://localhost:8080/"
    },
    "id": "1x-RZK51fmJ4",
    "outputId": "6bb76cb6-faaa-4d9b-9c4a-bb30fa34350e"
   },
   "outputs": [
    {
     "name": "stdout",
     "output_type": "stream",
     "text": [
      "Found 10236 files belonging to 6 classes.\n",
      "Using 8189 files for training.\n",
      "Found 10236 files belonging to 6 classes.\n",
      "Using 2047 files for validation.\n"
     ]
    }
   ],
   "source": [
    "directory = \"/Users/catherinesanso/Desktop/Github_Personal/speech-emotion-recognition/plots/spectograms\"\n",
    "\n",
    "# Create a generator for my training set\n",
    "train = tf.keras.utils.image_dataset_from_directory(\n",
    "    directory,\n",
    "    labels='inferred',\n",
    "    label_mode='int',\n",
    "    class_names=None,\n",
    "    color_mode='rgb',\n",
    "    batch_size=32,\n",
    "    image_size=(128, 128),  # I might want this as 256, 256 if my results are bad. # Dont need to rescale bc all images are the same size\n",
    "    shuffle=True,\n",
    "    seed=42,\n",
    "    validation_split=0.2,\n",
    "    subset='training',\n",
    "    interpolation='bilinear',\n",
    "    follow_links=False,\n",
    "    crop_to_aspect_ratio=False,\n",
    ")\n",
    "\n",
    "# Creating a generator for my validaton (=testing) set\n",
    "test = tf.keras.utils.image_dataset_from_directory(\n",
    "    directory,\n",
    "    labels='inferred',\n",
    "    label_mode='int',\n",
    "    class_names=None,\n",
    "    color_mode='rgb',\n",
    "    batch_size=32,\n",
    "    image_size=(128, 128),\n",
    "    shuffle=True,\n",
    "    seed=42,\n",
    "    validation_split=0.2,\n",
    "    subset='validation',\n",
    "    interpolation='bilinear',\n",
    "    follow_links=False,\n",
    "    crop_to_aspect_ratio=False,\n",
    ")"
   ]
  },
  {
   "cell_type": "code",
   "execution_count": 5,
   "metadata": {
    "colab": {
     "base_uri": "https://localhost:8080/"
    },
    "id": "t7B9Qip6uiNq",
    "outputId": "dd6092f7-7057-4d50-dea8-4d62ce5e14c0"
   },
   "outputs": [
    {
     "name": "stdout",
     "output_type": "stream",
     "text": [
      "Subfolder 'ANG': 1730 images\n",
      "Subfolder 'NEU': 1530 images\n",
      "Subfolder 'SAD': 1716 images\n",
      "Subfolder 'HAP': 1860 images\n",
      "Subfolder 'FEA': 1730 images\n",
      "Subfolder 'DIS': 1670 images\n"
     ]
    }
   ],
   "source": [
    "# Confirming no class imbalance for my 6 target outputs\n",
    "# If data is imbalanced, use class weights.\n",
    "\n",
    "base_directory = \"/Users/catherinesanso/Desktop/Github_Personal/speech-emotion-recognition/plots/spectograms\"\n",
    "\n",
    "image_counts = {}\n",
    "\n",
    "# Iterate over subdirectories\n",
    "for subfolder in os.listdir(base_directory):\n",
    "    subfolder_path = os.path.join(base_directory, subfolder)\n",
    "    if os.path.isdir(subfolder_path):\n",
    "        # Count the number of files with .png extension in the subfolder\n",
    "        num_images = len([filename for filename in os.listdir(subfolder_path) if filename.endswith('.png')])\n",
    "        image_counts[subfolder] = num_images\n",
    "\n",
    "# Print counts for each subfolder\n",
    "for subfolder, count in image_counts.items():\n",
    "    print(f\"Subfolder '{subfolder}': {count} images\")"
   ]
  },
  {
   "cell_type": "markdown",
   "metadata": {},
   "source": [
    "---"
   ]
  },
  {
   "cell_type": "markdown",
   "metadata": {},
   "source": [
    "# Creating the first CNN model:"
   ]
  },
  {
   "cell_type": "code",
   "execution_count": 6,
   "metadata": {
    "id": "gxiaXnOqfmMq"
   },
   "outputs": [],
   "source": [
    "# Instantiate the CNN model\n",
    "cnn = Sequential()\n",
    "\n",
    "# Add a convolutional layer\n",
    "cnn.add(Conv2D(filters=32,\n",
    "               kernel_size=(3,3),\n",
    "               strides = (1,1), # to conform with padding\n",
    "               padding = 'same',\n",
    "               activation='relu',\n",
    "               input_shape=(128, 128, 3),\n",
    "               kernel_regularizer=l2(0.01)))\n",
    "\n",
    "# Add a MaxPooling2D layer to downsample\n",
    "cnn.add(MaxPooling2D(pool_size=(2, 2)))\n",
    "\n",
    "# Add a second convolutional layer\n",
    "cnn.add(Conv2D(filters=64,  # Increase the number of filters, base 2\n",
    "               kernel_size=(3, 3),\n",
    "               strides=(1, 1),\n",
    "               padding='same',\n",
    "               activation='relu',\n",
    "               kernel_regularizer=l2(0.01)))\n",
    "\n",
    "# Add a second MaxPooling2D layer to downsample\n",
    "cnn.add(MaxPooling2D(pool_size=(2, 2)))\n",
    "\n",
    "# Flatten the output from the convolutional layer\n",
    "cnn.add(Flatten())\n",
    "\n",
    "# Add a dense layer: softmax activation for multi-class classification\n",
    "cnn.add(Dense(units=6,\n",
    "              activation='softmax',\n",
    "              kernel_regularizer=l2(0.01)))"
   ]
  },
  {
   "cell_type": "code",
   "execution_count": 7,
   "metadata": {
    "colab": {
     "base_uri": "https://localhost:8080/"
    },
    "id": "XH7aLaROa0K0",
    "outputId": "0cf45751-03d8-49d5-b26b-a7c35c1a7b77"
   },
   "outputs": [
    {
     "name": "stdout",
     "output_type": "stream",
     "text": [
      "Model: \"sequential\"\n",
      "_________________________________________________________________\n",
      " Layer (type)                Output Shape              Param #   \n",
      "=================================================================\n",
      " conv2d (Conv2D)             (None, 128, 128, 32)      896       \n",
      "                                                                 \n",
      " max_pooling2d (MaxPooling2D  (None, 64, 64, 32)       0         \n",
      " )                                                               \n",
      "                                                                 \n",
      " conv2d_1 (Conv2D)           (None, 64, 64, 64)        18496     \n",
      "                                                                 \n",
      " max_pooling2d_1 (MaxPooling  (None, 32, 32, 64)       0         \n",
      " 2D)                                                             \n",
      "                                                                 \n",
      " flatten (Flatten)           (None, 65536)             0         \n",
      "                                                                 \n",
      " dense (Dense)               (None, 6)                 393222    \n",
      "                                                                 \n",
      "=================================================================\n",
      "Total params: 412,614\n",
      "Trainable params: 412,614\n",
      "Non-trainable params: 0\n",
      "_________________________________________________________________\n"
     ]
    }
   ],
   "source": [
    "cnn.summary()"
   ]
  },
  {
   "cell_type": "code",
   "execution_count": 8,
   "metadata": {
    "id": "Sn4RVyZJa0Ps"
   },
   "outputs": [],
   "source": [
    "# Compile the model\n",
    "cnn.compile(\n",
    "    loss = 'sparse_categorical_crossentropy',\n",
    "  optimizer = 'adam',\n",
    "    metrics = ['accuracy'] \n",
    ")"
   ]
  },
  {
   "cell_type": "code",
   "execution_count": 9,
   "metadata": {
    "id": "5F72nqioAUub"
   },
   "outputs": [],
   "source": [
    "# Add option for Early Stopping callback\n",
    "early_stopping = EarlyStopping(\n",
    "    monitor='accuracy',\n",
    "    patience=5,           # Number of epochs with no improvement after which training will stop\n",
    "    restore_best_weights=True  # Restore the model weights from the epoch with the best validation loss\n",
    ")\n",
    "\n",
    "# Add option for ModelCheckpoint callback (to save the best model)\n",
    "model_checkpoint = ModelCheckpoint(\n",
    "    'best_cnn.h5',  # Filepath to save the best model\n",
    "    monitor='val_accuracy', \n",
    "    save_best_only=True,  # Save only the best model\n",
    "    verbose=1\n",
    ")"
   ]
  },
  {
   "cell_type": "code",
   "execution_count": 20,
   "metadata": {
    "colab": {
     "base_uri": "https://localhost:8080/"
    },
    "id": "s4fZvwEZa0YZ",
    "outputId": "9f5f2d15-8c2d-4aed-efb5-8d1b83188002"
   },
   "outputs": [
    {
     "name": "stdout",
     "output_type": "stream",
     "text": [
      "Epoch 1/15\n",
      "256/256 [==============================] - ETA: 0s - loss: 1.4746 - accuracy: 0.5659\n",
      "Epoch 1: val_accuracy did not improve from 0.95261\n",
      "256/256 [==============================] - 31s 120ms/step - loss: 1.4746 - accuracy: 0.5659 - val_loss: 2.0897 - val_accuracy: 0.4118\n",
      "Epoch 2/15\n",
      "256/256 [==============================] - ETA: 0s - loss: 1.4265 - accuracy: 0.5926\n",
      "Epoch 2: val_accuracy did not improve from 0.95261\n",
      "256/256 [==============================] - 31s 121ms/step - loss: 1.4265 - accuracy: 0.5926 - val_loss: 1.9163 - val_accuracy: 0.4446\n",
      "Epoch 3/15\n",
      "256/256 [==============================] - ETA: 0s - loss: 1.3918 - accuracy: 0.6117\n",
      "Epoch 3: val_accuracy did not improve from 0.95261\n",
      "256/256 [==============================] - 32s 123ms/step - loss: 1.3918 - accuracy: 0.6117 - val_loss: 2.0316 - val_accuracy: 0.4641\n",
      "Epoch 4/15\n",
      "256/256 [==============================] - ETA: 0s - loss: 1.3544 - accuracy: 0.6257\n",
      "Epoch 4: val_accuracy did not improve from 0.95261\n",
      "256/256 [==============================] - 32s 125ms/step - loss: 1.3544 - accuracy: 0.6257 - val_loss: 1.8904 - val_accuracy: 0.4704\n",
      "Epoch 5/15\n",
      "256/256 [==============================] - ETA: 0s - loss: 1.3101 - accuracy: 0.6467\n",
      "Epoch 5: val_accuracy did not improve from 0.95261\n",
      "256/256 [==============================] - 31s 120ms/step - loss: 1.3101 - accuracy: 0.6467 - val_loss: 1.9977 - val_accuracy: 0.4919\n",
      "Epoch 6/15\n",
      "256/256 [==============================] - ETA: 0s - loss: 1.2586 - accuracy: 0.6708\n",
      "Epoch 6: val_accuracy did not improve from 0.95261\n",
      "256/256 [==============================] - 32s 122ms/step - loss: 1.2586 - accuracy: 0.6708 - val_loss: 3.7544 - val_accuracy: 0.3219\n",
      "Epoch 7/15\n",
      "256/256 [==============================] - ETA: 0s - loss: 1.2714 - accuracy: 0.6730\n",
      "Epoch 7: val_accuracy did not improve from 0.95261\n",
      "256/256 [==============================] - 32s 123ms/step - loss: 1.2714 - accuracy: 0.6730 - val_loss: 1.9117 - val_accuracy: 0.4856\n",
      "Epoch 8/15\n",
      "256/256 [==============================] - ETA: 0s - loss: 1.1708 - accuracy: 0.6974\n",
      "Epoch 8: val_accuracy did not improve from 0.95261\n",
      "256/256 [==============================] - 31s 122ms/step - loss: 1.1708 - accuracy: 0.6974 - val_loss: 1.8446 - val_accuracy: 0.5061\n",
      "Epoch 9/15\n",
      "256/256 [==============================] - ETA: 0s - loss: 1.1320 - accuracy: 0.7168\n",
      "Epoch 9: val_accuracy did not improve from 0.95261\n",
      "256/256 [==============================] - 31s 121ms/step - loss: 1.1320 - accuracy: 0.7168 - val_loss: 1.8341 - val_accuracy: 0.5330\n",
      "Epoch 10/15\n",
      "256/256 [==============================] - ETA: 0s - loss: 1.1157 - accuracy: 0.7317\n",
      "Epoch 10: val_accuracy did not improve from 0.95261\n",
      "256/256 [==============================] - 32s 123ms/step - loss: 1.1157 - accuracy: 0.7317 - val_loss: 1.9975 - val_accuracy: 0.5266\n",
      "Epoch 11/15\n",
      "256/256 [==============================] - ETA: 0s - loss: 1.0834 - accuracy: 0.7450\n",
      "Epoch 11: val_accuracy did not improve from 0.95261\n",
      "256/256 [==============================] - 31s 122ms/step - loss: 1.0834 - accuracy: 0.7450 - val_loss: 1.9517 - val_accuracy: 0.5501\n",
      "Epoch 12/15\n",
      "256/256 [==============================] - ETA: 0s - loss: 1.0561 - accuracy: 0.7567\n",
      "Epoch 12: val_accuracy did not improve from 0.95261\n",
      "256/256 [==============================] - 31s 121ms/step - loss: 1.0561 - accuracy: 0.7567 - val_loss: 1.9039 - val_accuracy: 0.5647\n",
      "Epoch 13/15\n",
      "256/256 [==============================] - ETA: 0s - loss: 0.9741 - accuracy: 0.7935\n",
      "Epoch 13: val_accuracy did not improve from 0.95261\n",
      "256/256 [==============================] - 31s 120ms/step - loss: 0.9741 - accuracy: 0.7935 - val_loss: 2.0496 - val_accuracy: 0.5633\n",
      "Epoch 14/15\n",
      "256/256 [==============================] - ETA: 0s - loss: 0.9132 - accuracy: 0.8133\n",
      "Epoch 14: val_accuracy did not improve from 0.95261\n",
      "256/256 [==============================] - 31s 120ms/step - loss: 0.9132 - accuracy: 0.8133 - val_loss: 2.0214 - val_accuracy: 0.5882\n",
      "Epoch 15/15\n",
      "256/256 [==============================] - ETA: 0s - loss: 0.8572 - accuracy: 0.8415\n",
      "Epoch 15: val_accuracy did not improve from 0.95261\n",
      "256/256 [==============================] - 31s 120ms/step - loss: 0.8572 - accuracy: 0.8415 - val_loss: 2.0208 - val_accuracy: 0.6121\n"
     ]
    }
   ],
   "source": [
    "# Fit the model\n",
    "history = cnn.fit(train,\n",
    "        validation_data = test,\n",
    "        epochs = 25,\n",
    "        batch_size = 64,\n",
    "        callbacks = [early_stopping, model_checkpoint],\n",
    "        verbose =1)"
   ]
  },
  {
   "cell_type": "code",
   "execution_count": 27,
   "metadata": {
    "colab": {
     "base_uri": "https://localhost:8080/",
     "height": 472
    },
    "id": "o0-qYa7Ga0cn",
    "outputId": "590baa43-479d-4dcc-822c-e1a67a4c66d2"
   },
   "outputs": [
    {
     "data": {
      "image/png": "[encoded data removed]",
      "text/plain": [
       "<Figure size 640x480 with 1 Axes>"
      ]
     },
     "metadata": {},
     "output_type": "display_data"
    }
   ],
   "source": [
    "# Evaluate model history\n",
    "\n",
    "plt.plot(history.history['accuracy'], label='Training Accuracy')\n",
    "plt.plot(history.history['val_accuracy'], label='Validation Accuracy')\n",
    "plt.xticks(range(0,25), range(1,26))\n",
    "plt.legend()\n",
    "plt.title('CNN Model Accuracy')\n",
    "plt.xlabel('Epoch')\n",
    "plt.ylabel('Accuracy');"
   ]
  },
  {
   "cell_type": "code",
   "execution_count": 12,
   "metadata": {
    "colab": {
     "base_uri": "https://localhost:8080/"
    },
    "id": "Y0rMjDjWZX0G",
    "outputId": "9724f790-87f8-4efe-a2bd-a9042c8badec"
   },
   "outputs": [
    {
     "name": "stdout",
     "output_type": "stream",
     "text": [
      "64/64 [==============================] - 3s 43ms/step\n"
     ]
    }
   ],
   "source": [
    "# Call preds\n",
    "predictions = cnn.predict(test)"
   ]
  },
  {
   "cell_type": "markdown",
   "metadata": {},
   "source": [
    "---"
   ]
  },
  {
   "cell_type": "markdown",
   "metadata": {
    "id": "JMoezy_dCkS9"
   },
   "source": [
    "# Now using a VGG16 model with Transfer Learning"
   ]
  },
  {
   "cell_type": "code",
   "execution_count": 14,
   "metadata": {
    "colab": {
     "base_uri": "https://localhost:8080/"
    },
    "id": "FIg5pMtV5N9v",
    "outputId": "66dd7bad-8f0c-4ec7-d758-1f80f124a4ff"
   },
   "outputs": [
    {
     "name": "stdout",
     "output_type": "stream",
     "text": [
      "Downloading data from https://storage.googleapis.com/tensorflow/keras-applications/vgg16/vgg16_weights_tf_dim_ordering_tf_kernels_notop.h5\n",
      "58889256/58889256 [==============================] - 1s 0us/step\n"
     ]
    }
   ],
   "source": [
    "# Loading the pre-trained VGG16 model without the top classification layers\n",
    "base_model = VGG16(weights='imagenet', include_top=False, input_shape=(128, 128, 3))"
   ]
  },
  {
   "cell_type": "code",
   "execution_count": 15,
   "metadata": {
    "id": "oI4IVIVCNNDw"
   },
   "outputs": [],
   "source": [
    "# Adding custom classification layers on top of VGG16 base:\n",
    "# Because I need to format for my problem of multi-class with 6 target outputs\n",
    "\n",
    "x = Flatten()(base_model.output)\n",
    "x = Dense(128, activation='relu')(x)\n",
    "output = Dense(6, activation='softmax')(x)"
   ]
  },
  {
   "cell_type": "code",
   "execution_count": 16,
   "metadata": {
    "id": "SlPIK5q5NNGJ"
   },
   "outputs": [],
   "source": [
    "# Creating the VGG-16 base model\n",
    "vgg16_model = Model(inputs=base_model.input, outputs=output)"
   ]
  },
  {
   "cell_type": "code",
   "execution_count": 17,
   "metadata": {
    "id": "dZqo69htDfNS"
   },
   "outputs": [
    {
     "name": "stderr",
     "output_type": "stream",
     "text": [
      "WARNING:absl:At this time, the v2.11+ optimizer `tf.keras.optimizers.Adam` runs slowly on M1/M2 Macs, please use the legacy Keras optimizer instead, located at `tf.keras.optimizers.legacy.Adam`.\n",
      "WARNING:absl:There is a known slowdown when using v2.11+ Keras optimizers on M1/M2 Macs. Falling back to the legacy Keras optimizer, i.e., `tf.keras.optimizers.legacy.Adam`.\n"
     ]
    }
   ],
   "source": [
    "# Train the model\n",
    "\n",
    "# Unfreeze some layers\n",
    "for layer in base_model.layers[-4:]:\n",
    "    layer.trainable = True\n",
    "# I decided to make only the last 4 layers trainable for optimization\n",
    "\n",
    "# Compile the model\n",
    "vgg16_model.compile(\n",
    "    loss='sparse_categorical_crossentropy',\n",
    "    optimizer=tf.keras.optimizers.Adam(learning_rate=0.0001),  # Default learning rate is 0.001. Larger learning rate = model will converge faster = takes less time to learn, so better for optimization\n",
    "    metrics=['accuracy']\n",
    ")"
   ]
  },
  {
   "cell_type": "code",
   "execution_count": 18,
   "metadata": {
    "colab": {
     "base_uri": "https://localhost:8080/"
    },
    "id": "0eO5NMwJhR_u",
    "outputId": "a1e73cf3-27b2-4d54-9855-e7ad08c047c3"
   },
   "outputs": [
    {
     "name": "stdout",
     "output_type": "stream",
     "text": [
      "Model: \"model\"\n",
      "_________________________________________________________________\n",
      " Layer (type)                Output Shape              Param #   \n",
      "=================================================================\n",
      " input_1 (InputLayer)        [(None, 128, 128, 3)]     0         \n",
      "                                                                 \n",
      " block1_conv1 (Conv2D)       (None, 128, 128, 64)      1792      \n",
      "                                                                 \n",
      " block1_conv2 (Conv2D)       (None, 128, 128, 64)      36928     \n",
      "                                                                 \n",
      " block1_pool (MaxPooling2D)  (None, 64, 64, 64)        0         \n",
      "                                                                 \n",
      " block2_conv1 (Conv2D)       (None, 64, 64, 128)       73856     \n",
      "                                                                 \n",
      " block2_conv2 (Conv2D)       (None, 64, 64, 128)       147584    \n",
      "                                                                 \n",
      " block2_pool (MaxPooling2D)  (None, 32, 32, 128)       0         \n",
      "                                                                 \n",
      " block3_conv1 (Conv2D)       (None, 32, 32, 256)       295168    \n",
      "                                                                 \n",
      " block3_conv2 (Conv2D)       (None, 32, 32, 256)       590080    \n",
      "                                                                 \n",
      " block3_conv3 (Conv2D)       (None, 32, 32, 256)       590080    \n",
      "                                                                 \n",
      " block3_pool (MaxPooling2D)  (None, 16, 16, 256)       0         \n",
      "                                                                 \n",
      " block4_conv1 (Conv2D)       (None, 16, 16, 512)       1180160   \n",
      "                                                                 \n",
      " block4_conv2 (Conv2D)       (None, 16, 16, 512)       2359808   \n",
      "                                                                 \n",
      " block4_conv3 (Conv2D)       (None, 16, 16, 512)       2359808   \n",
      "                                                                 \n",
      " block4_pool (MaxPooling2D)  (None, 8, 8, 512)         0         \n",
      "                                                                 \n",
      " block5_conv1 (Conv2D)       (None, 8, 8, 512)         2359808   \n",
      "                                                                 \n",
      " block5_conv2 (Conv2D)       (None, 8, 8, 512)         2359808   \n",
      "                                                                 \n",
      " block5_conv3 (Conv2D)       (None, 8, 8, 512)         2359808   \n",
      "                                                                 \n",
      " block5_pool (MaxPooling2D)  (None, 4, 4, 512)         0         \n",
      "                                                                 \n",
      " flatten_1 (Flatten)         (None, 8192)              0         \n",
      "                                                                 \n",
      " dense_1 (Dense)             (None, 128)               1048704   \n",
      "                                                                 \n",
      " dense_2 (Dense)             (None, 6)                 774       \n",
      "                                                                 \n",
      "=================================================================\n",
      "Total params: 15,764,166\n",
      "Trainable params: 15,764,166\n",
      "Non-trainable params: 0\n",
      "_________________________________________________________________\n"
     ]
    }
   ],
   "source": [
    "vgg16_model.summary()"
   ]
  },
  {
   "cell_type": "code",
   "execution_count": 19,
   "metadata": {
    "colab": {
     "base_uri": "https://localhost:8080/"
    },
    "id": "NM8XA9agEfUJ",
    "outputId": "2fb51cc8-debb-45af-b720-0ea5b572b9e1"
   },
   "outputs": [
    {
     "name": "stdout",
     "output_type": "stream",
     "text": [
      "Epoch 1/25\n",
      "256/256 [==============================] - ETA: 0s - loss: 2.0396 - accuracy: 0.3060\n",
      "Epoch 1: val_accuracy improved from -inf to 0.35320, saving model to best_vgg16.h5\n",
      "256/256 [==============================] - 802s 3s/step - loss: 2.0396 - accuracy: 0.3060 - val_loss: 1.5721 - val_accuracy: 0.3532\n",
      "Epoch 2/25\n",
      "256/256 [==============================] - ETA: 0s - loss: 1.4630 - accuracy: 0.3968\n",
      "Epoch 2: val_accuracy improved from 0.35320 to 0.39228, saving model to best_vgg16.h5\n",
      "256/256 [==============================] - 812s 3s/step - loss: 1.4630 - accuracy: 0.3968 - val_loss: 1.4686 - val_accuracy: 0.3923\n",
      "Epoch 3/25\n",
      "256/256 [==============================] - ETA: 0s - loss: 1.3756 - accuracy: 0.4476\n",
      "Epoch 3: val_accuracy improved from 0.39228 to 0.48412, saving model to best_vgg16.h5\n",
      "256/256 [==============================] - 787s 3s/step - loss: 1.3756 - accuracy: 0.4476 - val_loss: 1.3164 - val_accuracy: 0.4841\n",
      "Epoch 4/25\n",
      "256/256 [==============================] - ETA: 0s - loss: 1.2912 - accuracy: 0.4910\n",
      "Epoch 4: val_accuracy improved from 0.48412 to 0.51246, saving model to best_vgg16.h5\n",
      "256/256 [==============================] - 787s 3s/step - loss: 1.2912 - accuracy: 0.4910 - val_loss: 1.2298 - val_accuracy: 0.5125\n",
      "Epoch 5/25\n",
      "256/256 [==============================] - ETA: 0s - loss: 1.1708 - accuracy: 0.5467\n",
      "Epoch 5: val_accuracy improved from 0.51246 to 0.57303, saving model to best_vgg16.h5\n",
      "256/256 [==============================] - 788s 3s/step - loss: 1.1708 - accuracy: 0.5467 - val_loss: 1.1327 - val_accuracy: 0.5730\n",
      "Epoch 6/25\n",
      "256/256 [==============================] - ETA: 0s - loss: 1.0277 - accuracy: 0.6133\n",
      "Epoch 6: val_accuracy improved from 0.57303 to 0.61602, saving model to best_vgg16.h5\n",
      "256/256 [==============================] - 788s 3s/step - loss: 1.0277 - accuracy: 0.6133 - val_loss: 1.0122 - val_accuracy: 0.6160\n",
      "Epoch 7/25\n",
      "256/256 [==============================] - ETA: 0s - loss: 0.8837 - accuracy: 0.6683\n",
      "Epoch 7: val_accuracy improved from 0.61602 to 0.67660, saving model to best_vgg16.h5\n",
      "256/256 [==============================] - 789s 3s/step - loss: 0.8837 - accuracy: 0.6683 - val_loss: 0.8549 - val_accuracy: 0.6766\n",
      "Epoch 8/25\n",
      "256/256 [==============================] - ETA: 0s - loss: 0.7083 - accuracy: 0.7386\n",
      "Epoch 8: val_accuracy improved from 0.67660 to 0.76502, saving model to best_vgg16.h5\n",
      "256/256 [==============================] - 788s 3s/step - loss: 0.7083 - accuracy: 0.7386 - val_loss: 0.6641 - val_accuracy: 0.7650\n",
      "Epoch 9/25\n",
      "256/256 [==============================] - ETA: 0s - loss: 0.5336 - accuracy: 0.8069\n",
      "Epoch 9: val_accuracy did not improve from 0.76502\n",
      "256/256 [==============================] - 2502s 10s/step - loss: 0.5336 - accuracy: 0.8069 - val_loss: 1.0979 - val_accuracy: 0.6209\n",
      "Epoch 10/25\n",
      "256/256 [==============================] - ETA: 0s - loss: 0.3689 - accuracy: 0.8682\n",
      "Epoch 10: val_accuracy improved from 0.76502 to 0.83586, saving model to best_vgg16.h5\n",
      "256/256 [==============================] - 786s 3s/step - loss: 0.3689 - accuracy: 0.8682 - val_loss: 0.4485 - val_accuracy: 0.8359\n",
      "Epoch 11/25\n",
      "256/256 [==============================] - ETA: 0s - loss: 0.2318 - accuracy: 0.9151\n",
      "Epoch 11: val_accuracy improved from 0.83586 to 0.87396, saving model to best_vgg16.h5\n",
      "256/256 [==============================] - 794s 3s/step - loss: 0.2318 - accuracy: 0.9151 - val_loss: 0.3522 - val_accuracy: 0.8740\n",
      "Epoch 12/25\n",
      "256/256 [==============================] - ETA: 0s - loss: 0.1473 - accuracy: 0.9475\n",
      "Epoch 12: val_accuracy improved from 0.87396 to 0.89790, saving model to best_vgg16.h5\n",
      "256/256 [==============================] - 794s 3s/step - loss: 0.1473 - accuracy: 0.9475 - val_loss: 0.3314 - val_accuracy: 0.8979\n",
      "Epoch 13/25\n",
      "256/256 [==============================] - ETA: 0s - loss: 0.1134 - accuracy: 0.9602\n",
      "Epoch 13: val_accuracy improved from 0.89790 to 0.90572, saving model to best_vgg16.h5\n",
      "256/256 [==============================] - 812s 3s/step - loss: 0.1134 - accuracy: 0.9602 - val_loss: 0.2684 - val_accuracy: 0.9057\n",
      "Epoch 14/25\n",
      "256/256 [==============================] - ETA: 0s - loss: 0.0909 - accuracy: 0.9667\n",
      "Epoch 14: val_accuracy did not improve from 0.90572\n",
      "256/256 [==============================] - 797s 3s/step - loss: 0.0909 - accuracy: 0.9667 - val_loss: 0.3800 - val_accuracy: 0.8769\n",
      "Epoch 15/25\n",
      "256/256 [==============================] - ETA: 0s - loss: 0.0830 - accuracy: 0.9701\n",
      "Epoch 15: val_accuracy did not improve from 0.90572\n",
      "256/256 [==============================] - 810s 3s/step - loss: 0.0830 - accuracy: 0.9701 - val_loss: 0.3122 - val_accuracy: 0.8959\n",
      "Epoch 16/25\n",
      "256/256 [==============================] - ETA: 0s - loss: 0.0813 - accuracy: 0.9718\n",
      "Epoch 16: val_accuracy improved from 0.90572 to 0.91353, saving model to best_vgg16.h5\n",
      "256/256 [==============================] - 799s 3s/step - loss: 0.0813 - accuracy: 0.9718 - val_loss: 0.2710 - val_accuracy: 0.9135\n",
      "Epoch 17/25\n",
      "256/256 [==============================] - ETA: 0s - loss: 0.0449 - accuracy: 0.9849\n",
      "Epoch 17: val_accuracy improved from 0.91353 to 0.92623, saving model to best_vgg16.h5\n",
      "256/256 [==============================] - 807s 3s/step - loss: 0.0449 - accuracy: 0.9849 - val_loss: 0.2437 - val_accuracy: 0.9262\n",
      "Epoch 18/25\n",
      "256/256 [==============================] - ETA: 0s - loss: 0.0596 - accuracy: 0.9800\n",
      "Epoch 18: val_accuracy improved from 0.92623 to 0.92965, saving model to best_vgg16.h5\n",
      "256/256 [==============================] - 813s 3s/step - loss: 0.0596 - accuracy: 0.9800 - val_loss: 0.2285 - val_accuracy: 0.9297\n",
      "Epoch 19/25\n",
      "256/256 [==============================] - ETA: 0s - loss: 0.0642 - accuracy: 0.9788\n",
      "Epoch 19: val_accuracy did not improve from 0.92965\n",
      "256/256 [==============================] - 809s 3s/step - loss: 0.0642 - accuracy: 0.9788 - val_loss: 0.3595 - val_accuracy: 0.8779\n",
      "Epoch 20/25\n",
      "256/256 [==============================] - ETA: 0s - loss: 0.0677 - accuracy: 0.9775\n",
      "Epoch 20: val_accuracy improved from 0.92965 to 0.95261, saving model to best_vgg16.h5\n",
      "256/256 [==============================] - 814s 3s/step - loss: 0.0677 - accuracy: 0.9775 - val_loss: 0.1668 - val_accuracy: 0.9526\n",
      "Epoch 21/25\n",
      "256/256 [==============================] - ETA: 0s - loss: 0.0416 - accuracy: 0.9864\n",
      "Epoch 21: val_accuracy did not improve from 0.95261\n",
      "256/256 [==============================] - 812s 3s/step - loss: 0.0416 - accuracy: 0.9864 - val_loss: 0.2874 - val_accuracy: 0.9194\n",
      "Epoch 22/25\n",
      "256/256 [==============================] - ETA: 0s - loss: 0.0576 - accuracy: 0.9810\n",
      "Epoch 22: val_accuracy did not improve from 0.95261\n",
      "256/256 [==============================] - 810s 3s/step - loss: 0.0576 - accuracy: 0.9810 - val_loss: 0.1628 - val_accuracy: 0.9458\n",
      "Epoch 23/25\n",
      "256/256 [==============================] - ETA: 0s - loss: 0.0513 - accuracy: 0.9811\n",
      "Epoch 23: val_accuracy did not improve from 0.95261\n",
      "256/256 [==============================] - 811s 3s/step - loss: 0.0513 - accuracy: 0.9811 - val_loss: 0.1737 - val_accuracy: 0.9424\n",
      "Epoch 24/25\n",
      "256/256 [==============================] - ETA: 0s - loss: 0.0285 - accuracy: 0.9900\n",
      "Epoch 24: val_accuracy did not improve from 0.95261\n",
      "256/256 [==============================] - 801s 3s/step - loss: 0.0285 - accuracy: 0.9900 - val_loss: 0.2114 - val_accuracy: 0.9340\n",
      "Epoch 25/25\n",
      "256/256 [==============================] - ETA: 0s - loss: 0.0232 - accuracy: 0.9918\n",
      "Epoch 25: val_accuracy did not improve from 0.95261\n",
      "256/256 [==============================] - 808s 3s/step - loss: 0.0232 - accuracy: 0.9918 - val_loss: 0.3119 - val_accuracy: 0.9116\n"
     ]
    }
   ],
   "source": [
    "# Add option for Early Stopping callback\n",
    "early_stopping = EarlyStopping(\n",
    "    monitor='accuracy',\n",
    "    patience=15,\n",
    "    restore_best_weights=True\n",
    ")\n",
    "\n",
    "# Add option for ModelCheckpoint callback (to save the best model)\n",
    "model_checkpoint = ModelCheckpoint(\n",
    "    'best_vgg16.h5',  # Filepath to save the best model\n",
    "    monitor='val_accuracy',  # Metric to monitor\n",
    "    save_best_only=True,  # Save only the best model\n",
    "    verbose=1\n",
    ")\n",
    "\n",
    "history = vgg16_model.fit(\n",
    "    train,\n",
    "    validation_data=test,\n",
    "    epochs=25,\n",
    "    verbose=1,\n",
    "    callbacks=[early_stopping, model_checkpoint]\n",
    ")\n",
    "\n",
    "# Change learning rate to make it better\n",
    "# Baseline Accuracy # is acc / # of classes so acc / 6 --> 100/6 ="
   ]
  },
  {
   "cell_type": "code",
   "execution_count": 21,
   "metadata": {
    "colab": {
     "base_uri": "https://localhost:8080/"
    },
    "id": "gOcjvoXJEll8",
    "outputId": "32f6b889-1910-4498-ddf9-5e74e40ecf38"
   },
   "outputs": [
    {
     "name": "stdout",
     "output_type": "stream",
     "text": [
      "64/64 [==============================] - 55s 851ms/step - loss: 0.3119 - accuracy: 0.9116\n",
      "Test Loss: 0.3119\n",
      "Test Accuracy: 91.16%\n"
     ]
    }
   ],
   "source": [
    "test_loss, test_accuracy = vgg16_model.evaluate(test)\n",
    "print(f\"Test Loss: {test_loss:.4f}\")\n",
    "print(f\"Test Accuracy: {test_accuracy*100:.2f}%\")"
   ]
  },
  {
   "cell_type": "code",
   "execution_count": null,
   "metadata": {},
   "outputs": [],
   "source": [
    "# Shown in next notebook instead\n",
    "# Load the best model saved by ModelCheckpoint\n",
    "# best_vgg16 = tf.keras.models.load_model('best_vgg16.h5')"
   ]
  },
  {
   "cell_type": "code",
   "execution_count": 22,
   "metadata": {
    "colab": {
     "base_uri": "https://localhost:8080/"
    },
    "id": "R4ll90IIYLzO",
    "outputId": "7ac17a5a-fab4-43a3-b7ab-e45e2c3894ee"
   },
   "outputs": [
    {
     "name": "stdout",
     "output_type": "stream",
     "text": [
      "Number of epochs in the best model: 15\n"
     ]
    }
   ],
   "source": [
    "# Display the number of epochs used in the best model\n",
    "best_model_epochs = len(history.history['val_accuracy'])\n",
    "print(\"Number of epochs in the best model:\", best_model_epochs)"
   ]
  },
  {
   "cell_type": "code",
   "execution_count": 25,
   "metadata": {
    "colab": {
     "base_uri": "https://localhost:8080/",
     "height": 472
    },
    "id": "JFjxZuieks2J",
    "outputId": "2762f6db-3842-4dbc-c1c4-31f8a2738a42"
   },
   "outputs": [
    {
     "data": {
      "image/png": "[encoded data removed]",
      "text/plain": [
       "<Figure size 640x480 with 1 Axes>"
      ]
     },
     "metadata": {},
     "output_type": "display_data"
    }
   ],
   "source": [
    "# Evaluate model history\n",
    "\n",
    "plt.plot(history.history['accuracy'], label='Training Accuracy')\n",
    "plt.plot(history.history['val_accuracy'], label='Validation Accuracy')\n",
    "plt.xticks(range(0,25), range(1,26))\n",
    "plt.legend()\n",
    "plt.title('VGG16 Model Accuracy')\n",
    "plt.xlabel('Epoch')\n",
    "plt.ylabel('Accuracy');"
   ]
  },
  {
   "cell_type": "code",
   "execution_count": 36,
   "metadata": {
    "id": "z2Hj11Dtks4r"
   },
   "outputs": [
    {
     "name": "stdout",
     "output_type": "stream",
     "text": [
      "64/64 [==============================] - 57s 882ms/step\n"
     ]
    }
   ],
   "source": [
    "# Call preds\n",
    "predictions = vgg16_model.predict(test)"
   ]
  },
  {
   "cell_type": "markdown",
   "metadata": {},
   "source": [
    "### Generating a multi-class confusion matrix for the VGG16 model:"
   ]
  },
  {
   "cell_type": "code",
   "execution_count": 105,
   "metadata": {},
   "outputs": [
    {
     "ename": "ValueError",
     "evalue": "Found input variables with inconsistent numbers of samples: [64, 1]",
     "output_type": "error",
     "traceback": [
      "\u001b[0;31m---------------------------------------------------------------------------\u001b[0m",
      "\u001b[0;31mValueError\u001b[0m                                Traceback (most recent call last)",
      "Cell \u001b[0;32mIn[105], line 4\u001b[0m\n\u001b[1;32m      1\u001b[0m \u001b[38;5;66;03m# Classification Matrix\u001b[39;00m\n\u001b[1;32m      3\u001b[0m target_names \u001b[38;5;241m=\u001b[39m [\u001b[38;5;124m'\u001b[39m\u001b[38;5;124mANG\u001b[39m\u001b[38;5;124m'\u001b[39m, \u001b[38;5;124m'\u001b[39m\u001b[38;5;124mDIS\u001b[39m\u001b[38;5;124m'\u001b[39m, \u001b[38;5;124m'\u001b[39m\u001b[38;5;124mFEA\u001b[39m\u001b[38;5;124m'\u001b[39m, \u001b[38;5;124m'\u001b[39m\u001b[38;5;124mHAP\u001b[39m\u001b[38;5;124m'\u001b[39m, \u001b[38;5;124m'\u001b[39m\u001b[38;5;124mNEU\u001b[39m\u001b[38;5;124m'\u001b[39m, \u001b[38;5;124m'\u001b[39m\u001b[38;5;124mSAD\u001b[39m\u001b[38;5;124m'\u001b[39m]\n\u001b[0;32m----> 4\u001b[0m \u001b[38;5;28mprint\u001b[39m(\u001b[43mclassification_report\u001b[49m\u001b[43m(\u001b[49m\u001b[43mtest\u001b[49m\u001b[43m,\u001b[49m\u001b[43m \u001b[49m\u001b[43mpredictions\u001b[49m\u001b[43m,\u001b[49m\u001b[43m \u001b[49m\u001b[43mtarget_names\u001b[49m\u001b[38;5;241;43m=\u001b[39;49m\u001b[43mtarget_names\u001b[49m\u001b[43m)\u001b[49m)\n\u001b[1;32m      6\u001b[0m \u001b[38;5;66;03m# https://scikit-learn.org/stable/modules/generated/sklearn.metrics.classification_report.html\u001b[39;00m\n",
      "File \u001b[0;32m~/anaconda3/envs/tf2/lib/python3.9/site-packages/sklearn/utils/_param_validation.py:211\u001b[0m, in \u001b[0;36mvalidate_params.<locals>.decorator.<locals>.wrapper\u001b[0;34m(*args, **kwargs)\u001b[0m\n\u001b[1;32m    205\u001b[0m \u001b[38;5;28;01mtry\u001b[39;00m:\n\u001b[1;32m    206\u001b[0m     \u001b[38;5;28;01mwith\u001b[39;00m config_context(\n\u001b[1;32m    207\u001b[0m         skip_parameter_validation\u001b[38;5;241m=\u001b[39m(\n\u001b[1;32m    208\u001b[0m             prefer_skip_nested_validation \u001b[38;5;129;01mor\u001b[39;00m global_skip_validation\n\u001b[1;32m    209\u001b[0m         )\n\u001b[1;32m    210\u001b[0m     ):\n\u001b[0;32m--> 211\u001b[0m         \u001b[38;5;28;01mreturn\u001b[39;00m \u001b[43mfunc\u001b[49m\u001b[43m(\u001b[49m\u001b[38;5;241;43m*\u001b[39;49m\u001b[43margs\u001b[49m\u001b[43m,\u001b[49m\u001b[43m \u001b[49m\u001b[38;5;241;43m*\u001b[39;49m\u001b[38;5;241;43m*\u001b[39;49m\u001b[43mkwargs\u001b[49m\u001b[43m)\u001b[49m\n\u001b[1;32m    212\u001b[0m \u001b[38;5;28;01mexcept\u001b[39;00m InvalidParameterError \u001b[38;5;28;01mas\u001b[39;00m e:\n\u001b[1;32m    213\u001b[0m     \u001b[38;5;66;03m# When the function is just a wrapper around an estimator, we allow\u001b[39;00m\n\u001b[1;32m    214\u001b[0m     \u001b[38;5;66;03m# the function to delegate validation to the estimator, but we replace\u001b[39;00m\n\u001b[1;32m    215\u001b[0m     \u001b[38;5;66;03m# the name of the estimator by the name of the function in the error\u001b[39;00m\n\u001b[1;32m    216\u001b[0m     \u001b[38;5;66;03m# message to avoid confusion.\u001b[39;00m\n\u001b[1;32m    217\u001b[0m     msg \u001b[38;5;241m=\u001b[39m re\u001b[38;5;241m.\u001b[39msub(\n\u001b[1;32m    218\u001b[0m         \u001b[38;5;124mr\u001b[39m\u001b[38;5;124m\"\u001b[39m\u001b[38;5;124mparameter of \u001b[39m\u001b[38;5;124m\\\u001b[39m\u001b[38;5;124mw+ must be\u001b[39m\u001b[38;5;124m\"\u001b[39m,\n\u001b[1;32m    219\u001b[0m         \u001b[38;5;124mf\u001b[39m\u001b[38;5;124m\"\u001b[39m\u001b[38;5;124mparameter of \u001b[39m\u001b[38;5;132;01m{\u001b[39;00mfunc\u001b[38;5;241m.\u001b[39m\u001b[38;5;18m__qualname__\u001b[39m\u001b[38;5;132;01m}\u001b[39;00m\u001b[38;5;124m must be\u001b[39m\u001b[38;5;124m\"\u001b[39m,\n\u001b[1;32m    220\u001b[0m         \u001b[38;5;28mstr\u001b[39m(e),\n\u001b[1;32m    221\u001b[0m     )\n",
      "File \u001b[0;32m~/anaconda3/envs/tf2/lib/python3.9/site-packages/sklearn/metrics/_classification.py:2539\u001b[0m, in \u001b[0;36mclassification_report\u001b[0;34m(y_true, y_pred, labels, target_names, sample_weight, digits, output_dict, zero_division)\u001b[0m\n\u001b[1;32m   2405\u001b[0m \u001b[38;5;129m@validate_params\u001b[39m(\n\u001b[1;32m   2406\u001b[0m     {\n\u001b[1;32m   2407\u001b[0m         \u001b[38;5;124m\"\u001b[39m\u001b[38;5;124my_true\u001b[39m\u001b[38;5;124m\"\u001b[39m: [\u001b[38;5;124m\"\u001b[39m\u001b[38;5;124marray-like\u001b[39m\u001b[38;5;124m\"\u001b[39m, \u001b[38;5;124m\"\u001b[39m\u001b[38;5;124msparse matrix\u001b[39m\u001b[38;5;124m\"\u001b[39m],\n\u001b[0;32m   (...)\u001b[0m\n\u001b[1;32m   2430\u001b[0m     zero_division\u001b[38;5;241m=\u001b[39m\u001b[38;5;124m\"\u001b[39m\u001b[38;5;124mwarn\u001b[39m\u001b[38;5;124m\"\u001b[39m,\n\u001b[1;32m   2431\u001b[0m ):\n\u001b[1;32m   2432\u001b[0m \u001b[38;5;250m    \u001b[39m\u001b[38;5;124;03m\"\"\"Build a text report showing the main classification metrics.\u001b[39;00m\n\u001b[1;32m   2433\u001b[0m \n\u001b[1;32m   2434\u001b[0m \u001b[38;5;124;03m    Read more in the :ref:`User Guide <classification_report>`.\u001b[39;00m\n\u001b[0;32m   (...)\u001b[0m\n\u001b[1;32m   2536\u001b[0m \u001b[38;5;124;03m    <BLANKLINE>\u001b[39;00m\n\u001b[1;32m   2537\u001b[0m \u001b[38;5;124;03m    \"\"\"\u001b[39;00m\n\u001b[0;32m-> 2539\u001b[0m     y_type, y_true, y_pred \u001b[38;5;241m=\u001b[39m \u001b[43m_check_targets\u001b[49m\u001b[43m(\u001b[49m\u001b[43my_true\u001b[49m\u001b[43m,\u001b[49m\u001b[43m \u001b[49m\u001b[43my_pred\u001b[49m\u001b[43m)\u001b[49m\n\u001b[1;32m   2541\u001b[0m     \u001b[38;5;28;01mif\u001b[39;00m labels \u001b[38;5;129;01mis\u001b[39;00m \u001b[38;5;28;01mNone\u001b[39;00m:\n\u001b[1;32m   2542\u001b[0m         labels \u001b[38;5;241m=\u001b[39m unique_labels(y_true, y_pred)\n",
      "File \u001b[0;32m~/anaconda3/envs/tf2/lib/python3.9/site-packages/sklearn/metrics/_classification.py:84\u001b[0m, in \u001b[0;36m_check_targets\u001b[0;34m(y_true, y_pred)\u001b[0m\n\u001b[1;32m     57\u001b[0m \u001b[38;5;28;01mdef\u001b[39;00m \u001b[38;5;21m_check_targets\u001b[39m(y_true, y_pred):\n\u001b[1;32m     58\u001b[0m \u001b[38;5;250m    \u001b[39m\u001b[38;5;124;03m\"\"\"Check that y_true and y_pred belong to the same classification task.\u001b[39;00m\n\u001b[1;32m     59\u001b[0m \n\u001b[1;32m     60\u001b[0m \u001b[38;5;124;03m    This converts multiclass or binary types to a common shape, and raises a\u001b[39;00m\n\u001b[0;32m   (...)\u001b[0m\n\u001b[1;32m     82\u001b[0m \u001b[38;5;124;03m    y_pred : array or indicator matrix\u001b[39;00m\n\u001b[1;32m     83\u001b[0m \u001b[38;5;124;03m    \"\"\"\u001b[39;00m\n\u001b[0;32m---> 84\u001b[0m     \u001b[43mcheck_consistent_length\u001b[49m\u001b[43m(\u001b[49m\u001b[43my_true\u001b[49m\u001b[43m,\u001b[49m\u001b[43m \u001b[49m\u001b[43my_pred\u001b[49m\u001b[43m)\u001b[49m\n\u001b[1;32m     85\u001b[0m     type_true \u001b[38;5;241m=\u001b[39m type_of_target(y_true, input_name\u001b[38;5;241m=\u001b[39m\u001b[38;5;124m\"\u001b[39m\u001b[38;5;124my_true\u001b[39m\u001b[38;5;124m\"\u001b[39m)\n\u001b[1;32m     86\u001b[0m     type_pred \u001b[38;5;241m=\u001b[39m type_of_target(y_pred, input_name\u001b[38;5;241m=\u001b[39m\u001b[38;5;124m\"\u001b[39m\u001b[38;5;124my_pred\u001b[39m\u001b[38;5;124m\"\u001b[39m)\n",
      "File \u001b[0;32m~/anaconda3/envs/tf2/lib/python3.9/site-packages/sklearn/utils/validation.py:409\u001b[0m, in \u001b[0;36mcheck_consistent_length\u001b[0;34m(*arrays)\u001b[0m\n\u001b[1;32m    407\u001b[0m uniques \u001b[38;5;241m=\u001b[39m np\u001b[38;5;241m.\u001b[39munique(lengths)\n\u001b[1;32m    408\u001b[0m \u001b[38;5;28;01mif\u001b[39;00m \u001b[38;5;28mlen\u001b[39m(uniques) \u001b[38;5;241m>\u001b[39m \u001b[38;5;241m1\u001b[39m:\n\u001b[0;32m--> 409\u001b[0m     \u001b[38;5;28;01mraise\u001b[39;00m \u001b[38;5;167;01mValueError\u001b[39;00m(\n\u001b[1;32m    410\u001b[0m         \u001b[38;5;124m\"\u001b[39m\u001b[38;5;124mFound input variables with inconsistent numbers of samples: \u001b[39m\u001b[38;5;132;01m%r\u001b[39;00m\u001b[38;5;124m\"\u001b[39m\n\u001b[1;32m    411\u001b[0m         \u001b[38;5;241m%\u001b[39m [\u001b[38;5;28mint\u001b[39m(l) \u001b[38;5;28;01mfor\u001b[39;00m l \u001b[38;5;129;01min\u001b[39;00m lengths]\n\u001b[1;32m    412\u001b[0m     )\n",
      "\u001b[0;31mValueError\u001b[0m: Found input variables with inconsistent numbers of samples: [64, 1]"
     ]
    }
   ],
   "source": [
    "# Classification Matrix\n",
    "\n",
    "target_names = ['ANG', 'DIS', 'FEA', 'HAP', 'NEU', 'SAD']\n",
    "print(classification_report(test, predictions, target_names=target_names))\n",
    "\n",
    "# https://scikit-learn.org/stable/modules/generated/sklearn.metrics.classification_report.html"
   ]
  },
  {
   "cell_type": "code",
   "execution_count": null,
   "metadata": {},
   "outputs": [],
   "source": []
  }
 ],
 "metadata": {
  "accelerator": "GPU",
  "colab": {
   "gpuType": "T4",
   "machine_shape": "hm",
   "provenance": []
  },
  "kernelspec": {
   "display_name": "Python 3 (ipykernel)",
   "language": "python",
   "name": "python3"
  },
  "language_info": {
   "codemirror_mode": {
    "name": "ipython",
    "version": 3
   },
   "file_extension": ".py",
   "mimetype": "text/x-python",
   "name": "python",
   "nbconvert_exporter": "python",
   "pygments_lexer": "ipython3",
   "version": "3.9.18"
  }
 },
 "nbformat": 4,
 "nbformat_minor": 4
}
